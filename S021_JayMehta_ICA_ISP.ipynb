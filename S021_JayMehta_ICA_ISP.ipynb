{
  "nbformat": 4,
  "nbformat_minor": 0,
  "metadata": {
    "colab": {
      "provenance": []
    },
    "kernelspec": {
      "name": "python3",
      "display_name": "Python 3"
    },
    "language_info": {
      "name": "python"
    }
  },
  "cells": [
    {
      "cell_type": "code",
      "execution_count": 3,
      "metadata": {
        "colab": {
          "base_uri": "https://localhost:8080/"
        },
        "id": "e0YiMiuiK08f",
        "outputId": "809c2c0e-6858-4696-eabb-4fae31b7644d"
      },
      "outputs": [
        {
          "output_type": "stream",
          "name": "stdout",
          "text": [
            "Plain Text : CEASER CIPHER DEMO\n",
            "Shift pattern : 4\n",
            "Cipher: G\n"
          ]
        }
      ],
      "source": [
        "def encrypt(text,s):\n",
        "  result = \"\"\n",
        "   # transverse the plain text\n",
        "  for i in range(len(text)):\n",
        "      char = text[i]\n",
        "      # Encrypt uppercase characters in plain text\n",
        "      \n",
        "      if (char.isupper()):\n",
        "         result += chr((ord(char) + s-65) % 26 + 65)\n",
        "      # Encrypt lowercase characters in plain text\n",
        "      else:\n",
        "         result += chr((ord(char) + s - 97) % 26 + 97)\n",
        "      return result\n",
        "#check the above function\n",
        "\n",
        "text  = \"CEASER CIPHER DEMO\"\n",
        "s = 4\n",
        "\n",
        "print (\"Plain Text : \" + text)\n",
        "print (\"Shift pattern : \" + str(s))\n",
        "print (\"Cipher: \" + encrypt(text,s))\n"
      ]
    },
    {
      "cell_type": "code",
      "source": [
        "vernam_dict = dict((i, chr(i + 96)) for i in range(1, 27))\n",
        "# Vernam by replacing char of plain by char(ord(sum of plain and key))\n",
        "def vernam_encrypt(plain, key):\n",
        "    plain = plain.lower()\n",
        "    ckey = ''.join([(key[i % len(key)]) for i in range(len(list(plain)))])\n",
        "    print(ckey)\n",
        "    cipher = ''\n",
        "    for i in range(len(plain)):\n",
        "        if plain[i] == ' ':\n",
        "            cipher += ' '\n",
        "        else:\n",
        "            cipher += vernam_dict[(ord(plain[i]) + ord(ckey[i])) % 26]\n",
        "    print(cipher, plain)\n",
        "\n",
        "print(vernam_encrypt('mountains are bae', 'hello'))"
      ],
      "metadata": {
        "colab": {
          "base_uri": "https://localhost:8080/"
        },
        "id": "a7DxRk9tK3LG",
        "outputId": "27587c6a-bc5d-4b86-9f21-940e23befa1e"
      },
      "execution_count": 4,
      "outputs": [
        {
          "output_type": "stream",
          "name": "stdout",
          "text": [
            "hellohellohellohe\n",
            "edqjssxjo sga ast mountains are bae\n",
            "None\n"
          ]
        }
      ]
    },
    {
      "cell_type": "code",
      "source": [
        "import string\n",
        "# stores all upper case alphabets\n",
        "all_alphabets = list(string.ascii_uppercase)\n",
        " \n",
        "keyword = \"Star War\"\n",
        "keyword1 = keyword.upper()\n",
        " \n",
        "message = \"Attack at dawn\"\n",
        " \n",
        "# converts message to list\n",
        "msg = []\n",
        "for i in message:\n",
        "    msg.append(i.upper())\n",
        " \n",
        "# removes default elements\n",
        " \n",
        " \n",
        "def duplicates(list):\n",
        "    key = []\n",
        "    for i in list:\n",
        "        if i not in key:\n",
        "            key.append(i)\n",
        " \n",
        "    return key\n",
        " \n",
        " \n",
        "keyword1 = duplicates(keyword1)\n",
        " \n",
        "# Stores the encryption list\n",
        "encrypting = duplicates(keyword1+all_alphabets)\n",
        " \n",
        "# removes spaces from the encryption list\n",
        "for i in encrypting:\n",
        "    if(i == ' '):\n",
        "        encrypting.remove(' ')\n",
        " \n",
        "ciphertext = \"\"\n",
        " \n",
        "# maps each element of the message to the encryption list and stores it in ciphertext\n",
        "for i in range(len(msg)):\n",
        "    if(msg[i] != ' '):\n",
        "        ciphertext = ciphertext+encrypting[all_alphabets.index(msg[i])]\n",
        "    else:\n",
        "        ciphertext = ciphertext+' '\n",
        " \n",
        "print(\"Keyword : \", keyword)\n",
        "print(\"Message before Ciphering : \", message)\n",
        "print(\"Ciphered Text : \", ciphertext)"
      ],
      "metadata": {
        "colab": {
          "base_uri": "https://localhost:8080/"
        },
        "id": "DDSFJjLbMS7u",
        "outputId": "7ad141d1-ba90-4656-8e8d-d5faab1e6515"
      },
      "execution_count": 5,
      "outputs": [
        {
          "output_type": "stream",
          "name": "stdout",
          "text": [
            "Keyword :  Star War\n",
            "Message before Ciphering :  Attack at dawn\n",
            "Ciphered Text :  SPPSAG SP RSVJ\n"
          ]
        }
      ]
    },
    {
      "cell_type": "code",
      "source": [],
      "metadata": {
        "id": "2PsDBCzzMv86"
      },
      "execution_count": null,
      "outputs": []
    }
  ]
}